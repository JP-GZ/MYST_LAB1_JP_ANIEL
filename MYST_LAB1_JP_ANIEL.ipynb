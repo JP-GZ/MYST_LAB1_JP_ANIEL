{
 "cells": [
  {
   "cell_type": "markdown",
   "id": "22ba2bac",
   "metadata": {},
   "source": [
    "<img style=\"float: right; margin: 30px 15px 15px 15px;\" src=\"https://www.iteso.mx/image/journal/article?img_id=30686648&t=1652736570703\" width=\"300\" height=\"500\" /> \n",
    "\n",
    "## <font color='navy'> MICROESTRUCTURA Y SISTEMAS DE TRADING (P2023_MAF1731B). \n",
    "**<font size = 4>Fecha:** 08/10/2023.\n",
    "    \n",
    "**<font size = 4>Nombres:** \n",
    "  - IFI, <font size = 3>**Juan Pablo Garcia Zaragoza**\n",
    "  -  IFI,  <font size = 3>**Aniel Villanueva Mendoza**\n",
    "    \n",
    "**Expedientes:** : \n",
    "   - 724489\n",
    "   - 707739"
   ]
  },
  {
   "cell_type": "markdown",
   "id": "77d365b3",
   "metadata": {},
   "source": [
    " #  Laboratorio 1 \n",
    " ##  Estrategias de inversión de capital\n"
   ]
  },
  {
   "cell_type": "code",
   "execution_count": null,
   "id": "cb33f12a",
   "metadata": {},
   "outputs": [],
   "source": []
  }
 ],
 "metadata": {
  "kernelspec": {
   "display_name": "Python 3 (ipykernel)",
   "language": "python",
   "name": "python3"
  },
  "language_info": {
   "codemirror_mode": {
    "name": "ipython",
    "version": 3
   },
   "file_extension": ".py",
   "mimetype": "text/x-python",
   "name": "python",
   "nbconvert_exporter": "python",
   "pygments_lexer": "ipython3",
   "version": "3.9.7"
  }
 },
 "nbformat": 4,
 "nbformat_minor": 5
}
