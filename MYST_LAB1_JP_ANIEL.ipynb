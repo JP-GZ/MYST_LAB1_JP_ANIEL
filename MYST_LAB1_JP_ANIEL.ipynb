{
 "cells": [
  {
   "cell_type": "markdown",
   "id": "22ba2bac",
   "metadata": {},
   "source": [
    "<img style=\"float: right; margin: 30px 15px 15px 15px;\" src=\"https://www.iteso.mx/image/journal/article?img_id=30686648&t=1652736570703\" width=\"300\" height=\"500\" /> \n",
    "\n",
    "## <font color='navy'> MICROESTRUCTURA Y SISTEMAS DE TRADING (P2023_MAF1731B). \n",
    "**<font size = 4>Fecha:** 08/10/2023.\n",
    "    \n",
    "**<font size = 4>Nombres:** \n",
    "  - IFI, <font size = 3>**Juan Pablo Garcia Zaragoza**\n",
    "  -  IFI,  <font size = 3>**Aniel Villanueva Mendoza**\n",
    "    \n",
    "**Expedientes:** : \n",
    "   - 724489\n",
    "   - 706739"
   ]
  },
  {
   "cell_type": "markdown",
   "id": "77d365b3",
   "metadata": {},
   "source": [
    " #  Laboratorio 1 \n",
    " ##  Estrategias de inversión de capital\n"
   ]
  },
  {
   "cell_type": "markdown",
   "id": "36a7269e",
   "metadata": {},
   "source": [
    "SECCIÓN 0: \n",
    "\n",
    "Estructuras de proyectos de Python\n",
    "\n",
    "- Introducción: En esta sección se verá el resultado de trabajar con una inversión pasiva y activa utilizando datos históricos del NAFTRAC y ETF para la inversión activa. \n",
    "\n",
    "- Objetivos: El principal objetivo de una inversión sea pasiva o activa es generar rendimientos en una cuenta de inversión, cada una tiene sus ventajas y desventajas dependiendo de las necesidades del inversionista y sobre todo su aversión al riesgo.\n",
    "\n",
    "- Procedimientos\n",
    "\n",
    "- Conclusiones "
   ]
  },
  {
   "cell_type": "code",
   "execution_count": null,
   "id": "cb33f12a",
   "metadata": {},
   "outputs": [
    {
     "ename": "",
     "evalue": "",
     "output_type": "error",
     "traceback": [
      "\u001b[1;31mNo se puede iniciar Jupyter. Error al intentar buscar Jupyter: Seleccionar un intérprete para iniciar Jupyter\n",
      "\u001b[1;31mEjecute el siguiente comando para instalar 'jupyter y notebook' en el entorno de Python. comando \n",
      "\u001b[1;31m: 'python -m pip install jupyter notebook -U\n",
      "\u001b[1;31mor\n",
      "\u001b[1;31mconda install jupyter notebook -U'\n",
      "Haga clic <a href='https://aka.ms/installJupyterForVSCode'>aquí</a> para obtener más información."
     ]
    }
   ],
   "source": [
    "# Librerias requeridas\n"
   ]
  },
  {
   "cell_type": "markdown",
   "id": "78077ede",
   "metadata": {},
   "source": [
    "SECCIÓN 1: \n",
    "\n",
    "Estrategia de Inversión Pasiva"
   ]
  },
  {
   "cell_type": "markdown",
   "id": "2826cfbe",
   "metadata": {},
   "source": [
    "SECCIÓN 2: \n",
    "\n",
    "Estrategia de Inversión Activa"
   ]
  },
  {
   "cell_type": "markdown",
   "id": "364fc55c",
   "metadata": {},
   "source": [
    "SECCIÓN 3: \n",
    "\n",
    "Historico de Operaciones"
   ]
  },
  {
   "cell_type": "markdown",
   "id": "6bf6a4f5",
   "metadata": {},
   "source": [
    "SECCIÓN 4:\n",
    "\n",
    "Medidas de atribución al desempeño"
   ]
  }
 ],
 "metadata": {
  "kernelspec": {
   "display_name": "Python 3.9.7 ('base')",
   "language": "python",
   "name": "python3"
  },
  "language_info": {
   "codemirror_mode": {
    "name": "ipython",
    "version": 3
   },
   "file_extension": ".py",
   "mimetype": "text/x-python",
   "name": "python",
   "nbconvert_exporter": "python",
   "pygments_lexer": "ipython3",
   "version": "3.9.7"
  },
  "vscode": {
   "interpreter": {
    "hash": "603606d9627e3259960e3039054698c1d9350735cbf6b9e00c289032e9e227ac"
   }
  }
 },
 "nbformat": 4,
 "nbformat_minor": 5
}
