{
 "cells": [
  {
   "cell_type": "markdown",
   "id": "9b819000",
   "metadata": {},
   "source": [
    "<img style=\"float: right; margin: 30px 15px 15px 15px;\" src=\"https://www.iteso.mx/image/journal/article?img_id=30686648&t=1652736570703\" width=\"300\" height=\"500\" /> \n",
    "\n",
    "## <font color='navy'> MICROESTRUCTURA Y SISTEMAS DE TRADING (P2023_MAF1731B). \n",
    "**<font size = 4>Fecha:** 08/10/2023.\n",
    "    \n",
    "**<font size = 4>Nombres:** \n",
    "  - IFI, <font size = 3>**Juan Pablo Garcia Zaragoza**\n",
    "  -  IFI,  <font size = 3>**Aniel Villanueva Mendoza**\n",
    "    \n",
    "**Expedientes:** : \n",
    "   - 724489\n",
    "   - 707739"
   ]
  },
  {
   "cell_type": "markdown",
   "id": "2a48358c",
   "metadata": {},
   "source": [
    " #  Laboratorio 1 \n",
    " ##  Estrategias de inversión de capital\n"
   ]
  },
  {
   "cell_type": "markdown",
   "id": "4985eebf",
   "metadata": {},
   "source": [
    "### INTRODUCCIÓN\n",
    "\n",
    "Las finanzas cuenta con una extensa variedad de temas como instrumentos financieron, finanzas corporativas, bursatil, trading, etc. De este último se retomará el tema específico de la inversión de capital, donde se aprenderá la diferencia entre una inversión activa y pasiva. \n",
    "Comencemos por definir que es una inversión activa y en qué consiste. Ésta busca obtener un buen rendimiento tomando como referencia un índice en particular que elige a su conveniencia; por lo tanto es flexible (se puede modificar) y tiene la posibilidad de tomar oportunidades que se le presentan a corto plazo. No sigue los movimientos del mercado de valores, sino que compra acciones cuyo valor pueda subir en un futuro cercano para generar ganancias.\n",
    "\n",
    "Por otro lado, la pasiva lo que busca es generar ganancias basándose en los principales índices del mercado, como el S&P's y el Dow Jones Industrial Average. Cuando los índices cambian, el fondo de inversión pasivo también lo hace porque éste replica tales indices; por lo cual compra las acciones que entran y vende las que salen. Obtiene sus ganancias cuando participa en las tendencias a la alta de los índices.\n",
    "Se tendrá que definir al final del laboratorio que estrategia resultó más eficiente para la inversión inicial."
   ]
  },
  {
   "cell_type": "markdown",
   "id": "0c2d6808",
   "metadata": {},
   "source": [
    "### OBJETIVOS\n",
    "\n",
    "El objetivo de el primer laboratorio es definir la mejor estrategia para invertir 1 Millón de pesos, con dos opciones para invertirlos. La primer opción es hacer una Inversión Pasiva del capital, comprando el 100% del capital de títulos de un ETF que replica al mercado de renta variable mexicano S&P/BMV IPC que es el NAFTRAC. La segunda opción es hacer una Inversión Activa del capital, creando un portafolio que tenga los mismos activos que el ETF y haciendo el rebalanceo por medio de un algoritmo en específico.\n"
   ]
  },
  {
   "cell_type": "markdown",
   "id": "c90c47c3",
   "metadata": {},
   "source": [
    "### Paqueterias y datos"
   ]
  },
  {
   "cell_type": "code",
   "execution_count": 2,
   "id": "7340c143",
   "metadata": {
    "scrolled": true
   },
   "outputs": [
    {
     "name": "stdout",
     "output_type": "stream",
     "text": [
      "[*********************100%***********************]  36 of 36 completed\n"
     ]
    }
   ],
   "source": [
    "import data as dt\n",
    "import functions as ft\n",
    "import visualizations as vs \n",
    "import numpy as np"
   ]
  },
  {
   "cell_type": "markdown",
   "id": "5b9504e9",
   "metadata": {},
   "source": [
    "### Inversión Pasiva\n",
    "\n",
    "En esta sección se tomaron los datos del NAFTRAC y información de Yahoo Finance\n"
   ]
  },
  {
   "cell_type": "code",
   "execution_count": 3,
   "id": "6ac645d2",
   "metadata": {
    "scrolled": true
   },
   "outputs": [
    {
     "ename": "AttributeError",
     "evalue": "module 'data' has no attribute 'df_operaciones_pasiva'",
     "output_type": "error",
     "traceback": [
      "\u001b[1;31m---------------------------------------------------------------------------\u001b[0m",
      "\u001b[1;31mAttributeError\u001b[0m                            Traceback (most recent call last)",
      "\u001b[1;32m~\\AppData\\Local\\Temp/ipykernel_26880/4047335538.py\u001b[0m in \u001b[0;36m<module>\u001b[1;34m\u001b[0m\n\u001b[1;32m----> 1\u001b[1;33m \u001b[0mOperaciones_pasiva\u001b[0m \u001b[1;33m=\u001b[0m \u001b[0mdt\u001b[0m\u001b[1;33m.\u001b[0m\u001b[0mdf_operaciones_pasiva\u001b[0m\u001b[1;33m\u001b[0m\u001b[1;33m\u001b[0m\u001b[0m\n\u001b[0m\u001b[0;32m      2\u001b[0m \u001b[0mOperaciones_pasiva\u001b[0m\u001b[1;33m\u001b[0m\u001b[1;33m\u001b[0m\u001b[0m\n",
      "\u001b[1;31mAttributeError\u001b[0m: module 'data' has no attribute 'df_operaciones_pasiva'"
     ]
    }
   ],
   "source": [
    "Operaciones_pasiva = dt.df_operaciones_pasiva\n",
    "Operaciones_pasiva"
   ]
  },
  {
   "cell_type": "code",
   "execution_count": null,
   "id": "a397de54",
   "metadata": {},
   "outputs": [],
   "source": [
    "inversion_pasiva = ft.Inversion_pasiva()\n",
    "capital= 1000000\n",
    "cash = 31000.0\n",
    "port_pasivo = inversion_pasiva.Inv_pasiva(dt.data_closeT,np.array(Operaciones_pasiva['Peso (%)']),cash,capital)"
   ]
  },
  {
   "cell_type": "code",
   "execution_count": null,
   "id": "1a0eee8e",
   "metadata": {},
   "outputs": [],
   "source": [
    "port_pasivo"
   ]
  },
  {
   "cell_type": "code",
   "execution_count": null,
   "id": "a83a51c4",
   "metadata": {},
   "outputs": [],
   "source": [
    "vs.grafico_historico(port_pasivo)"
   ]
  },
  {
   "cell_type": "markdown",
   "id": "e2beb890",
   "metadata": {},
   "source": [
    "### Conclusión\n",
    "\n",
    "Como conclusión final, se puede observar que la inversión pasiva dió muy buenos resultados obteniendo el 26.7% en rendimientos acumulados desde el 2021 hasta el 2023. Durante el periodo de Abril hubo una alza significativa que supero los 1.3 millones pero a pesar de haber atravesado por una crisis mundial y que el activo sufrió una caída más adelante en el mismo año, actualmente se encuentra recuperandose satisfactoriamente. \n",
    "\n",
    "Si el inversionista fuese conservador y quisiera tener su inversión \"segura\", esta sería definitivamente su mejor opción. Sieguiendo esta lógica, con la inversión activa se requiere más tiempo para dedicarle a estar moviendo y rebalanceando el portafolio para poder tener mejores rendimientos, además que por cada transacción se debe de pagar comisión y su respectiva pérdida o ganancia, según sea el caso. Por lo tanto, podemos concluir que la inversión pasiva es la más adecuada para un inversionista que no tiene tanto tiempo para dedicarle a su inversión pero que si quiere hacer crecer su capital, lamentablemente no se pudo realizar la inversión activa de este laboratorio. "
   ]
  },
  {
   "cell_type": "code",
   "execution_count": null,
   "id": "983fdf1f",
   "metadata": {},
   "outputs": [],
   "source": []
  }
 ],
 "metadata": {
  "kernelspec": {
   "display_name": "Python 3 (ipykernel)",
   "language": "python",
   "name": "python3"
  },
  "language_info": {
   "codemirror_mode": {
    "name": "ipython",
    "version": 3
   },
   "file_extension": ".py",
   "mimetype": "text/x-python",
   "name": "python",
   "nbconvert_exporter": "python",
   "pygments_lexer": "ipython3",
   "version": "3.9.7"
  }
 },
 "nbformat": 4,
 "nbformat_minor": 5
}
